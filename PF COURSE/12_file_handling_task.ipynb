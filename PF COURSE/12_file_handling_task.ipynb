{
 "cells": [
  {
   "cell_type": "code",
   "execution_count": 10,
   "id": "486b6d6f",
   "metadata": {},
   "outputs": [],
   "source": [
    "def print_name(n):\n",
    "    f=open(\"names.txt\",\"r\")\n",
    "    for i in f:\n",
    "        i=i.strip(\"\\n\")\n",
    "        if len(i)==n:\n",
    "            print (i)\n",
    "        else:\n",
    "            continue\n"
   ]
  },
  {
   "cell_type": "code",
   "execution_count": 3,
   "id": "d1357001",
   "metadata": {},
   "outputs": [],
   "source": [
    "# def print_name(n):\n",
    "#     f=open(\"names.txt\",\"r\")\n",
    "#     for i in f:\n",
    "#         i=i.strip(\"\\n\")\n",
    "#         if len(i)==n:\n",
    "#             print (i)\n",
    "#         else:\n",
    "#             continue\n"
   ]
  },
  {
   "cell_type": "code",
   "execution_count": 5,
   "id": "5579f1c8",
   "metadata": {},
   "outputs": [
    {
     "name": "stdout",
     "output_type": "stream",
     "text": [
      "Atif\n",
      "Umer\n",
      "Anna\n",
      "Saad\n",
      "Raza\n"
     ]
    }
   ],
   "source": []
  },
  {
   "cell_type": "code",
   "execution_count": 3,
   "id": "41efd421",
   "metadata": {},
   "outputs": [
    {
     "name": "stdout",
     "output_type": "stream",
     "text": [
      "Michael\n"
     ]
    }
   ],
   "source": [
    "f=open(\"names.txt\",\"r\")\n",
    "#fw=open(\"new_sub.txt\",\"w\")\n",
    "m=0\n",
    "name=\"\"\n",
    "for i in f:\n",
    "    i=i.strip(\"\\n\")\n",
    "    if (len(i)>len(name)):\n",
    "        name=i\n",
    "        m=len(name)\n",
    "#     print(i)    \n",
    "print (name)"
   ]
  },
  {
   "cell_type": "code",
   "execution_count": null,
   "id": "ea7e0794",
   "metadata": {},
   "outputs": [],
   "source": [
    "# first 4 characters of every line\n",
    "f=open('names.txt','r')\n",
    "\n",
    "for i in f:\n",
    "    i=i.strip('\\n')\n",
    "    i=i[0:4]\n",
    "    print(i)"
   ]
  },
  {
   "cell_type": "code",
   "execution_count": null,
   "id": "04614902",
   "metadata": {},
   "outputs": [],
   "source": [
    "# min length\n",
    "f=open('names.txt','r')\n",
    "first = f.readline()\n",
    "first=first.strip('\\n')\n",
    "min_len = len(first)\n",
    "print(mim_len)\n",
    "print('--------')\n",
    "for i in f:\n",
    "    i=i.strip('\\n')\n",
    "    n_len= len(i)\n",
    "    if n_len<min_len:\n",
    "        min_len = n_len\n",
    "        print(min_len)"
   ]
  },
  {
   "cell_type": "code",
   "execution_count": null,
   "id": "662027d3",
   "metadata": {},
   "outputs": [],
   "source": [
    "# min length\n",
    "f=open('names.txt','r')\n",
    "short_names=[]\n",
    "first = f.readline()\n",
    "first = first.strip('\\n')\n",
    "short_names= [first]\n",
    "\n",
    "for i in f:\n",
    "    i = i.strip('\\n')\n",
    "    if len(i)<len(short_names[0]):\n",
    "        short_names=[i]\n",
    "    elif len(i) == len(short_names[0]):\n",
    "        short_names.append(i)\n",
    "for i in short_names:\n",
    "    print(i,len(i))"
   ]
  },
  {
   "cell_type": "code",
   "execution_count": null,
   "id": "74f52293",
   "metadata": {},
   "outputs": [],
   "source": [
    "# min length\n",
    "f=open('names.txt','r')\n",
    "short_name=[]\n",
    "first = f.readline()\n",
    "first = first.strip('\\n')\n",
    "short_name= [first]\n",
    "\n",
    "for i in f:\n",
    "    i = i.strip('\\n')\n",
    "    if len(i)<len(short_name[0]):\n",
    "        short_name=[i]\n",
    "    \n",
    "print(short_name,len(short_name))"
   ]
  },
  {
   "cell_type": "code",
   "execution_count": null,
   "id": "29b88ac7",
   "metadata": {},
   "outputs": [],
   "source": [
    "# sum of names length\n",
    "f=open('names.txt','r')\n",
    "add=0\n",
    "for i in f:\n",
    "    i = i.strip('\\n')\n",
    "    add+=len(i)\n",
    "print(\"Total Sum of names \",add)"
   ]
  },
  {
   "cell_type": "code",
   "execution_count": null,
   "id": "3e93c1e2",
   "metadata": {},
   "outputs": [],
   "source": [
    "# sum of names length\n",
    "f=open('names.txt','r')\n",
    "add=0\n",
    "cnt=0\n",
    "for i in f:\n",
    "    i = i.strip('\\n')\n",
    "    add+=len(i)\n",
    "    cnt+=1\n",
    "average=add/cnt    \n",
    "print(\"Total Sum of names \",average)"
   ]
  },
  {
   "cell_type": "code",
   "execution_count": 15,
   "id": "3e640767",
   "metadata": {},
   "outputs": [],
   "source": [
    "f=open(\"names.txt\",\"r\")\n",
    "f1=open(\"name_with_subj3.txt\",\"a\")\n",
    "for i in f:\n",
    "    i=i.strip(\"\\n\")\n",
    "    f1.write(i+\"    Programing Fundamental lab, programming Fundamental, English Composition, Calculus-1\\n\")\n",
    "f.close()\n",
    "f1.close()"
   ]
  },
  {
   "cell_type": "code",
   "execution_count": null,
   "id": "befa196f",
   "metadata": {},
   "outputs": [],
   "source": [
    "mystr='The quick brown fox jumps over the lazy dog.'\n",
    "search='brownfox'\n",
    "if search in mystr:\n",
    "    print('Found')\n",
    "else:\n",
    "    print('Not Found')"
   ]
  },
  {
   "cell_type": "code",
   "execution_count": 18,
   "id": "e7e6f41f",
   "metadata": {},
   "outputs": [],
   "source": [
    "# Write a python function that reads in the names in names.txt.\n",
    "# Your function should ask user to enter a name to search if the\n",
    "# input is in file your function should return true otherwise it\n",
    "# should return false.\n",
    "def search_key():\n",
    "    s_str=input(\"Enter the name you want to search\\n\")\n",
    "    f = open('names.txt','r')\n",
    "    r = f.read()\n",
    "#     print(r)\n",
    "#     print(type(r))\n",
    "    if s_str in r:\n",
    "        return True\n",
    "    return False"
   ]
  },
  {
   "cell_type": "code",
   "execution_count": null,
   "id": "b5310bde",
   "metadata": {},
   "outputs": [],
   "source": [
    "search_key()"
   ]
  },
  {
   "cell_type": "code",
   "execution_count": 9,
   "id": "31326180",
   "metadata": {},
   "outputs": [],
   "source": [
    "def gloria_jeans():\n",
    "    \n",
    "    category={\n",
    "        '1':'Empty',\n",
    "        '2':{'1':[300,374],'2':[300,361],'3':[378,430],'4':[252,274],'5':[335,348] },\n",
    "        '3':'Empty',\n",
    "        '4':{'1':[335,365],'2':[335,365],'3':[348,400],'4':[348,400]}\n",
    "    }\n",
    "    # category={\n",
    "    #     '1':'Empty',\n",
    "    #     '2':{'1':{'Small':300,'Regular':374},'2':{'Small':300,'Regular':361},'3':{'Small':378,'Regular':430},\n",
    "    #          '4':{'Small':252,'Regular':274},'5':{'Small':335,'Regular':348} },\n",
    "    #     '3':'Empty',\n",
    "    #     '4':{'1':{'Small':335,'Regular':365},'2':{'Small':335,'Regular':365},'3':{'Small':348,'Regular':400}\n",
    "    #          ,'4':{'Small':348,'Regular':400}}\n",
    "    # }\n",
    "    cat ='Y'\n",
    "    tot_price=0\n",
    "    cnt=0\n",
    "    while True:\n",
    "\n",
    "        main_str='Gloria Jeans Menu\\nChoose the item from the menu list\\n1.Espresso\\n2.Over Ice\\n3.Chocolate Chillers\\n4.Fusion\\n'\n",
    "        main_str+='Press N to exit to program '\n",
    "        cat =input(main_str)\n",
    "        sub_str = '                          Small    Regular\\n---------------------------------------------\\n'\n",
    "        if cat=='1':\n",
    "            pass\n",
    "        elif cat=='2':\n",
    "\n",
    "            sub_str+='1.Signatured Ice COffee    300    374\\n'\n",
    "            sub_str+='2.Ice Mocha                300    361\\n'\n",
    "            sub_str+='3.Iced Caramel Latte       378    430\\n'\n",
    "            sub_str+='4.Iced Americano           252    274\\n'\n",
    "            sub_str+='----------------------------------------------\\n'\n",
    "            sub_str+='5.Apple Soda               335    348\\n'\n",
    "\n",
    "        elif cat=='3':\n",
    "            pass\n",
    "        elif cat=='4':\n",
    "            sub_str+='1.Iced Lime                335    365\\n'\n",
    "            sub_str+='2.Apple Chiller                      \\n'\n",
    "            sub_str+='----------------------------------------------\\n'\n",
    "            sub_str+='3.Chai Chiller              348   400\\n'\n",
    "            sub_str+='4.Green Tea Chiller                   \\n'\n",
    "        elif cat=='N':\n",
    "            cnt+=1\n",
    "            break\n",
    "        sub_cat  = input(sub_str)\n",
    "        size     = int(input(\"Select Size\\n1.Small\\n2.Regular\\n\"))   # size 0 = small 1 = regular\n",
    "        size-=1\n",
    "    #     size=str(size)\n",
    "        quantity = int(input(\"Enter the quantity\"))\n",
    "        unit_price = category[cat][sub_cat][size]\n",
    "        price = quantity*unit_price\n",
    "        tot_price+=price\n",
    "\n",
    "\n",
    "    service_charges=100\n",
    "    tot_price+=service_charges\n",
    "    tax_rate=.21\n",
    "    tot_tax=tot_price*tax_rate\n",
    "    tot_price+=tot_tax\n",
    "    print(tot_price)\n",
    "    f=open('bill.txt','w')\n",
    "    bill = 'Service Charges '+str(service_charges)+'\\n'\n",
    "    bill += 'Tax Charges '+str(tot_tax)+'\\n'\n",
    "    bill += 'Total Bill '+str(tot_price)+'\\n'\n",
    "    f.write(bill)\n",
    "    "
   ]
  },
  {
   "cell_type": "code",
   "execution_count": null,
   "id": "9caeefec",
   "metadata": {},
   "outputs": [],
   "source": []
  },
  {
   "cell_type": "code",
   "execution_count": null,
   "id": "a5a5e416",
   "metadata": {},
   "outputs": [],
   "source": [
    "category={\n",
    "    '1':'Empty','2':{'1':{'Small':300,'Regular':374},'2':[300,361],'3':[378,430],'4':[252,274],'5':[335,348] },'3':'Empty',\n",
    "    '4':{'1':[335,365],'2':[335,365],'3':[348,400],'4':[348,400]}\n",
    "}"
   ]
  },
  {
   "cell_type": "code",
   "execution_count": null,
   "id": "e07cbcce",
   "metadata": {},
   "outputs": [],
   "source": [
    "category['2']['1']['Small']"
   ]
  },
  {
   "cell_type": "code",
   "execution_count": null,
   "id": "06526cc8",
   "metadata": {},
   "outputs": [],
   "source": [
    "category={\n",
    "    '1':'Empty',\n",
    "    '2':{'1':[300,374],'2':[300,361],'3':[378,430],'4':[252,274],'5':[335,348] },\n",
    "    '3':'Empty',\n",
    "    '4':{'1':[335,365],'2':[335,365],'3':[348,400],'4':[348,400]}\n",
    "}"
   ]
  },
  {
   "cell_type": "code",
   "execution_count": null,
   "id": "5f683f85",
   "metadata": {},
   "outputs": [],
   "source": [
    "category['2'][1]"
   ]
  },
  {
   "cell_type": "code",
   "execution_count": null,
   "id": "c0553aad",
   "metadata": {},
   "outputs": [],
   "source": []
  },
  {
   "cell_type": "code",
   "execution_count": null,
   "id": "b5cd5b0b",
   "metadata": {},
   "outputs": [],
   "source": []
  },
  {
   "cell_type": "code",
   "execution_count": 17,
   "id": "ed585a62",
   "metadata": {},
   "outputs": [
    {
     "name": "stdout",
     "output_type": "stream",
     "text": [
      "Ali\n"
     ]
    }
   ],
   "source": [
    "print_name(3)"
   ]
  },
  {
   "cell_type": "code",
   "execution_count": 18,
   "id": "1152b3de",
   "metadata": {},
   "outputs": [
    {
     "name": "stdout",
     "output_type": "stream",
     "text": [
      "Gloria Jeans Menu\n",
      "Choose the item from the menu list\n",
      "1.Espresso\n",
      "2.Over Ice\n",
      "3.Chocolate Chillers\n",
      "4.Fusion\n",
      "Press N to exit to program 4\n",
      "                          Small    Regular\n",
      "---------------------------------------------\n",
      "1.Iced Lime                335    365\n",
      "2.Apple Chiller                      \n",
      "----------------------------------------------\n",
      "3.Chai Chiller              348   400\n",
      "4.Green Tea Chiller                   \n",
      "4\n",
      "Select Size\n",
      "1.Small\n",
      "2.Regular\n",
      "2\n",
      "Enter the quantity3\n",
      "Gloria Jeans Menu\n",
      "Choose the item from the menu list\n",
      "1.Espresso\n",
      "2.Over Ice\n",
      "3.Chocolate Chillers\n",
      "4.Fusion\n",
      "Press N to exit to program 2\n",
      "                          Small    Regular\n",
      "---------------------------------------------\n",
      "1.Signatured Ice COffee    300    374\n",
      "2.Ice Mocha                300    361\n",
      "3.Iced Caramel Latte       378    430\n",
      "4.Iced Americano           252    274\n",
      "----------------------------------------------\n",
      "5.Apple Soda               335    348\n",
      "5\n",
      "Select Size\n",
      "1.Small\n",
      "2.Regular\n",
      "2\n",
      "Enter the quantity3\n",
      "Gloria Jeans Menu\n",
      "Choose the item from the menu list\n",
      "1.Espresso\n",
      "2.Over Ice\n",
      "3.Chocolate Chillers\n",
      "4.Fusion\n",
      "Press N to exit to program N\n",
      "2836.24\n"
     ]
    }
   ],
   "source": [
    "gloria_jeans()"
   ]
  },
  {
   "cell_type": "code",
   "execution_count": 4,
   "id": "a50a7522",
   "metadata": {},
   "outputs": [
    {
     "data": {
      "text/plain": [
       "17"
      ]
     },
     "execution_count": 4,
     "metadata": {},
     "output_type": "execute_result"
    }
   ],
   "source": [
    "fo = open('demo.txt', 'wb')\n",
    "mstr=\"Hi Hello World123\".encode()\n",
    "fo.write(mstr)"
   ]
  },
  {
   "cell_type": "code",
   "execution_count": 5,
   "id": "7b8231f0",
   "metadata": {},
   "outputs": [],
   "source": [
    "with open('demo.txt', 'rb') as f:\n",
    "    for i in f:\n",
    "        i=i.decode()\n",
    "        i = i.strip('\\n')\n",
    "        print(i)\n",
    "\n"
   ]
  },
  {
   "cell_type": "code",
   "execution_count": 8,
   "id": "c774a31f",
   "metadata": {},
   "outputs": [
    {
     "name": "stdout",
     "output_type": "stream",
     "text": [
      "5\n"
     ]
    }
   ],
   "source": [
    "f=open(\"names.txt\",\"r\")\n",
    "line = f.readline()\n",
    "print(len(line))"
   ]
  },
  {
   "cell_type": "code",
   "execution_count": 23,
   "id": "94fd1534",
   "metadata": {},
   "outputs": [
    {
     "name": "stdout",
     "output_type": "stream",
     "text": [
      "Enter the name you want to search\n",
      "Ali\n"
     ]
    },
    {
     "data": {
      "text/plain": [
       "True"
      ]
     },
     "execution_count": 23,
     "metadata": {},
     "output_type": "execute_result"
    }
   ],
   "source": [
    "search_key()"
   ]
  },
  {
   "cell_type": "code",
   "execution_count": null,
   "id": "3e6dd353",
   "metadata": {},
   "outputs": [
    {
     "name": "stdout",
     "output_type": "stream",
     "text": [
      "Gloria Jeans Menu\n",
      "Choose the item from the menu list\n",
      "1.Espresso\n",
      "2.Over Ice\n",
      "3.Chocolate Chillers\n",
      "4.Fusion\n",
      "Press N to exit to program 4\n"
     ]
    }
   ],
   "source": [
    "gloria_jeans()"
   ]
  },
  {
   "cell_type": "code",
   "execution_count": null,
   "id": "1d2f0cb6",
   "metadata": {},
   "outputs": [],
   "source": []
  }
 ],
 "metadata": {
  "kernelspec": {
   "display_name": "Python 3",
   "language": "python",
   "name": "python3"
  },
  "language_info": {
   "codemirror_mode": {
    "name": "ipython",
    "version": 3
   },
   "file_extension": ".py",
   "mimetype": "text/x-python",
   "name": "python",
   "nbconvert_exporter": "python",
   "pygments_lexer": "ipython3",
   "version": "3.8.8"
  }
 },
 "nbformat": 4,
 "nbformat_minor": 5
}
