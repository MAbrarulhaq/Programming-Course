{
 "cells": [
  {
   "cell_type": "code",
   "execution_count": null,
   "id": "8d643499",
   "metadata": {},
   "outputs": [],
   "source": [
    "def factors(no):\n",
    "    limit=(no//2)+1\n",
    "    for i in range(2,limit):\n",
    "        if no%i==0:\n",
    "            print(i)\n",
    "\n",
    "factors(24)            "
   ]
  },
  {
   "cell_type": "code",
   "execution_count": 2,
   "id": "79bf3471",
   "metadata": {},
   "outputs": [
    {
     "name": "stdout",
     "output_type": "stream",
     "text": [
      "Choose your favorite beverage from the following list\n",
      "1.Coffee   2.Tea   3.Coke   4.Orange Juice\n",
      "Please input the favorite beverage of person #1 Choose 1,2,3,or 4 from the above menu or -1 to exit the program 1\n",
      "Choose your favorite beverage from the following list\n",
      "1.Coffee   2.Tea   3.Coke   4.Orange Juice\n",
      "Please input the favorite beverage of person #2 Choose 1,2,3,or 4 from the above menu or -1 to exit the program 2\n",
      "Choose your favorite beverage from the following list\n",
      "1.Coffee   2.Tea   3.Coke   4.Orange Juice\n",
      "Please input the favorite beverage of person #3 Choose 1,2,3,or 4 from the above menu or -1 to exit the program 3\n",
      "Choose your favorite beverage from the following list\n",
      "1.Coffee   2.Tea   3.Coke   4.Orange Juice\n",
      "Please input the favorite beverage of person #4 Choose 1,2,3,or 4 from the above menu or -1 to exit the program -1\n",
      "Beverage         Number of Votes\n",
      "*********************************\n",
      "Coffee               1\n",
      "Tea                  1\n",
      "Coke                 1\n",
      "Juice                0\n"
     ]
    }
   ],
   "source": [
    "\n",
    "exit = 1\n",
    "count=1\n",
    "coffee=tea=coke=juice=0\n",
    "\n",
    "\n",
    "\n",
    "\n",
    "while exit!=-1:\n",
    "    msg='Choose your favorite beverage from the following list\\n'\n",
    "    msg+='1.Coffee   2.Tea   3.Coke   4.Orange Juice\\n'\n",
    "    msg+='Please input the favorite beverage of person #'+str(count)\n",
    "    exit=int(input(msg+' Choose 1,2,3,or 4 from the above menu or -1 to exit the program '))\n",
    "  \n",
    "    if exit==1:\n",
    "        coffee+=1\n",
    "    elif exit==2:\n",
    "        tea+=1\n",
    "    elif exit==3:\n",
    "        coke+=1\n",
    "    elif exit==4:\n",
    "        juice+=1\n",
    "        \n",
    "    count+=1\n",
    "\n",
    "print('Beverage         Number of Votes')\n",
    "print('*********************************')\n",
    "print('Coffee              ',coffee )\n",
    "print('Tea                 ',tea )\n",
    "print('Coke                ',coke )\n",
    "print('Juice               ',juice )"
   ]
  },
  {
   "cell_type": "code",
   "execution_count": null,
   "id": "a970d45f",
   "metadata": {},
   "outputs": [],
   "source": [
    "# factorial program\n",
    "def factorial(no):\n",
    "    fact=1\n",
    "    for i in range(1,no+1):\n",
    "#         print(i)\n",
    "#         i+=1\n",
    "        fact*=i\n",
    "    return fact\n",
    "\n",
    "def npr(n,r):\n",
    "    n1=factorial(n)\n",
    "    r1=factorial(n-r)\n",
    "    return n1//r1\n",
    "\n",
    "n=int(input(\"Enter the value for n \"))\n",
    "r=int(input(\"Enter the value for r \"))\n",
    "# n=8\n",
    "# r=3\n",
    "print(\"npr for n= \",n,\" and r= \",r,\" is\",npr(n,r))"
   ]
  },
  {
   "cell_type": "code",
   "execution_count": null,
   "id": "23d741f2",
   "metadata": {},
   "outputs": [],
   "source": [
    "# factorial program\n",
    "def factorial(no):\n",
    "    fact=1\n",
    "    for i in range(1,no+1):\n",
    "#         print(i)\n",
    "#         i+=1\n",
    "        fact*=i\n",
    "    return fact\n",
    "\n",
    "def ncr(n,r):\n",
    "    n1=factorial(n)\n",
    "    n_r=factorial(n-r)\n",
    "    r1 = factorial(r)\n",
    "    return n1//(n_r*r1)\n",
    "\n",
    "n=int(input(\"Enter the value for n \"))\n",
    "r=int(input(\"Enter the value for r \"))\n",
    "# n=8\n",
    "# r=3\n",
    "print(\"ncr for n= \",n,\" and r= \",r,\" is\",ncr(n,r))"
   ]
  },
  {
   "cell_type": "code",
   "execution_count": null,
   "id": "c38a0596",
   "metadata": {},
   "outputs": [],
   "source": [
    "def fibonacci(l):\n",
    "    i=0\n",
    "    n1=0\n",
    "    n2=1\n",
    "    while i<l:\n",
    "        print(n1)\n",
    "        add=n1+n2\n",
    "        n1=n2\n",
    "        n2=add\n",
    "        i+=1\n",
    "        \n",
    "        \n",
    "no=int(input(\"How many term \"))        \n",
    "fibonacci(no)        "
   ]
  },
  {
   "cell_type": "code",
   "execution_count": null,
   "id": "3131d576",
   "metadata": {},
   "outputs": [],
   "source": [
    "# first 10 natural nos. that are divisible by 3 and 9\n",
    "def sum_2(no=10):\n",
    "    count=0\n",
    "    sum=0\n",
    "    series=1\n",
    "    while count<10:\n",
    "        if series%3==0 and series%9==0:\n",
    "            sum+=series\n",
    "            count+=1\n",
    "        \n",
    "        series+=1    \n",
    "    return sum\n",
    "\n",
    "print(sum_2(10))"
   ]
  },
  {
   "cell_type": "code",
   "execution_count": null,
   "id": "1b5b7c65",
   "metadata": {},
   "outputs": [],
   "source": [
    "# first 10 natural nos. that are divisible by 3 and 9 another method\n",
    "def sum_10(no=10):\n",
    "    count=0\n",
    "    sum=0\n",
    "    series=1\n",
    "    while True:\n",
    "        if series%3==0 and series%9==0:\n",
    "            sum+=series\n",
    "            count+=1\n",
    "        \n",
    "        if count==10:\n",
    "            break\n",
    "        series+=1    \n",
    "    return sum\n",
    "\n",
    "print(sum_10(10))"
   ]
  },
  {
   "cell_type": "code",
   "execution_count": null,
   "id": "5e9f6db5",
   "metadata": {},
   "outputs": [],
   "source": [
    "def PrimeChecker(a):  \n",
    "\n",
    "        flag=True\n",
    "        # Iterating over the given number with for loop  \n",
    "        for j in range(2, int(a/2) + 1):  \n",
    "            # If the given number is divisible or not  \n",
    "            if (a % j) == 0:  \n",
    "                flag=False  \n",
    "                break  \n",
    "        return flag    \n",
    "# Taking an input number from the user  \n",
    "# a = int(input(\"Enter an input number:\"))  \n",
    "\n",
    "n1=5\n",
    "n2=20\n",
    "for i in range(n1,n2):\n",
    "    if PrimeChecker(i):\n",
    "        print(i)\n",
    "    \n",
    "# Printing result  \n",
    " "
   ]
  },
  {
   "cell_type": "code",
   "execution_count": null,
   "id": "dccba4b8",
   "metadata": {},
   "outputs": [],
   "source": [
    "# Program to Calculate the Length of a digit using While Loop\n",
    "a=int(input(\"Enter an integer \"))\n",
    "count=0\n",
    "while a>0:\n",
    "    a=a//10\n",
    "    count+=1\n",
    "print(\"The Length of Entered Value is \",count)    "
   ]
  },
  {
   "cell_type": "code",
   "execution_count": 3,
   "id": "b75da35a",
   "metadata": {},
   "outputs": [
    {
     "name": "stdout",
     "output_type": "stream",
     "text": [
      "3\n"
     ]
    }
   ],
   "source": [
    "print(len(str(123)))"
   ]
  },
  {
   "cell_type": "code",
   "execution_count": null,
   "id": "2dbbf21d",
   "metadata": {},
   "outputs": [],
   "source": [
    "def factors_2(no):\n",
    "    \n",
    "    for i in range(1,no+1):\n",
    "        if no%i==0:\n",
    "            print(i)\n",
    "\n",
    "factors_2(12)            "
   ]
  },
  {
   "cell_type": "code",
   "execution_count": null,
   "id": "33c6c734",
   "metadata": {},
   "outputs": [],
   "source": []
  },
  {
   "cell_type": "code",
   "execution_count": null,
   "id": "ddf9c0bc",
   "metadata": {},
   "outputs": [],
   "source": [
    "count=0\n",
    "sum=0\n",
    "series=1\n",
    "while count<3:\n",
    "    if series%3==0 and series%9==0:\n",
    "        sum+=series\n",
    "        count+=1\n",
    "\n",
    "    series+=1 \n",
    "print(sum)    "
   ]
  },
  {
   "cell_type": "code",
   "execution_count": null,
   "id": "0f5f0f71",
   "metadata": {},
   "outputs": [],
   "source": []
  }
 ],
 "metadata": {
  "kernelspec": {
   "display_name": "Python 3",
   "language": "python",
   "name": "python3"
  },
  "language_info": {
   "codemirror_mode": {
    "name": "ipython",
    "version": 3
   },
   "file_extension": ".py",
   "mimetype": "text/x-python",
   "name": "python",
   "nbconvert_exporter": "python",
   "pygments_lexer": "ipython3",
   "version": "3.8.8"
  }
 },
 "nbformat": 4,
 "nbformat_minor": 5
}
