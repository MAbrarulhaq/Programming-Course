{
 "cells": [
  {
   "cell_type": "code",
   "execution_count": 1,
   "metadata": {},
   "outputs": [],
   "source": [
    "a=\"Hello\"\n",
    "l = len(a)"
   ]
  },
  {
   "cell_type": "code",
   "execution_count": 2,
   "metadata": {},
   "outputs": [
    {
     "data": {
      "text/plain": [
       "5"
      ]
     },
     "execution_count": 2,
     "metadata": {},
     "output_type": "execute_result"
    }
   ],
   "source": [
    "l"
   ]
  },
  {
   "cell_type": "code",
   "execution_count": 4,
   "metadata": {},
   "outputs": [
    {
     "name": "stdout",
     "output_type": "stream",
     "text": [
      "olleH"
     ]
    }
   ],
   "source": [
    "#print a string in reverse order\n",
    "for i in range(l-1,-1,-1):\n",
    "    print(a[i],end='')"
   ]
  },
  {
   "cell_type": "code",
   "execution_count": 7,
   "metadata": {},
   "outputs": [
    {
     "name": "stdout",
     "output_type": "stream",
     "text": [
      "54321"
     ]
    }
   ],
   "source": [
    "#Print a number in reverse order\n",
    "a=12345\n",
    "s= str(a)\n",
    "l=len(s)\n",
    "for i in range(l-1,-1,-1):\n",
    "    print(s[i],end='')"
   ]
  },
  {
   "cell_type": "code",
   "execution_count": 11,
   "metadata": {},
   "outputs": [
    {
     "name": "stdout",
     "output_type": "stream",
     "text": [
      "54321"
     ]
    }
   ],
   "source": [
    "# print an integer in a reverse order using while loop\n",
    "a=12345\n",
    "while(a>0):\n",
    "    rem1=a%10\n",
    "    a=a//10\n",
    "    print(rem1,end='')"
   ]
  },
  {
   "cell_type": "code",
   "execution_count": 13,
   "metadata": {},
   "outputs": [
    {
     "name": "stdout",
     "output_type": "stream",
     "text": [
      "35\n"
     ]
    }
   ],
   "source": [
    "# Reverse an integer and save it in a new variable\n",
    "a=53\n",
    "b=0\n",
    "while(a>0):#true\n",
    "    rem1=a%10 #rem1=3 ,5\n",
    "    b=b*10+rem1 #3 ,35\n",
    "    a=a//10 #5 ,0\n",
    "    \n",
    "print(b)"
   ]
  },
  {
   "cell_type": "code",
   "execution_count": 20,
   "metadata": {},
   "outputs": [
    {
     "name": "stdout",
     "output_type": "stream",
     "text": [
      "[54756, 3136, 209367559489, 11930116, 1156]\n"
     ]
    }
   ],
   "source": [
    "#Write a program that appends the square of each number to a new list.\n",
    "#using indexing technique\n",
    "x=[234,56,457567,3454,34,234]\n",
    "l=len(x)\n",
    "y=[]\n",
    "for i in range(0,l-1,1):\n",
    "    y.append(x[i]**2)\n",
    "    \n",
    "print(y)"
   ]
  },
  {
   "cell_type": "code",
   "execution_count": 23,
   "metadata": {},
   "outputs": [
    {
     "name": "stdout",
     "output_type": "stream",
     "text": [
      "[54756, 3136, 209367559489, 11930116, 1156, 54756]\n"
     ]
    }
   ],
   "source": [
    "#Write a program that appends the square of each number to a new list.\n",
    "#using a for loop\n",
    "y=[]\n",
    "for i in x:\n",
    "    y.append(i**2)\n",
    "print(y)"
   ]
  },
  {
   "cell_type": "code",
   "execution_count": 24,
   "metadata": {},
   "outputs": [
    {
     "data": {
      "text/plain": [
       "[234, 56, 457567, 3454, 34, 234]"
      ]
     },
     "execution_count": 24,
     "metadata": {},
     "output_type": "execute_result"
    }
   ],
   "source": [
    "x"
   ]
  },
  {
   "cell_type": "code",
   "execution_count": 31,
   "metadata": {},
   "outputs": [
    {
     "name": "stdout",
     "output_type": "stream",
     "text": [
      "[9, 25, 4, 4, 4]\n"
     ]
    }
   ],
   "source": [
    "#Write a program that appends the square of each number to a new list.\n",
    "#using a while loop\n",
    "x=[3,5,2,2,2]\n",
    "y=[]\n",
    "l=len(x)\n",
    "a=0\n",
    "while (a<l):\n",
    "    y.append(x[a]**2)\n",
    "    a=a+1;\n",
    "print(y)"
   ]
  },
  {
   "cell_type": "code",
   "execution_count": 34,
   "metadata": {},
   "outputs": [
    {
     "name": "stdout",
     "output_type": "stream",
     "text": [
      "[1, 23, 43, 1, 0, 4, 23, 12] [-23, -1]\n"
     ]
    }
   ],
   "source": [
    "#separate positive and negative number from a list.\n",
    "x=[1,23,43,1,0,4,-23,23,12,-1]\n",
    "p=[]\n",
    "n=[]\n",
    "for i in x:\n",
    "    if i>=0:\n",
    "        p.append(i)\n",
    "    else:\n",
    "        n.append(i)\n",
    "print(p,n)\n",
    "        "
   ]
  },
  {
   "cell_type": "code",
   "execution_count": 38,
   "metadata": {},
   "outputs": [
    {
     "name": "stdout",
     "output_type": "stream",
     "text": [
      "[6, 120, 2, 24, 2]\n"
     ]
    }
   ],
   "source": [
    "#Write a program that appends the factorial of each number to a new list.\n",
    "x=[3,5,2,4,2]\n",
    "y=[]\n",
    "for n in x:\n",
    "    fact=1\n",
    "    for  i in range(n,1,-1):\n",
    "        fact=fact*i\n",
    "    y.append(fact)\n",
    "print(y)"
   ]
  },
  {
   "cell_type": "code",
   "execution_count": 40,
   "metadata": {},
   "outputs": [
    {
     "name": "stdout",
     "output_type": "stream",
     "text": [
      "[6, 120, 2, 24, 2]\n"
     ]
    }
   ],
   "source": [
    "#Write a program that appends the factorial of each number to a new list.\n",
    "# USING FOR (OUTER) WHILE (INNER)\n",
    "x=[3,5,2,4,2]\n",
    "y=[]\n",
    "for n in x:\n",
    "    fact=1\n",
    "    while(n>0):\n",
    "        fact=fact*n\n",
    "        n=n-1\n",
    "    y.append(fact)\n",
    "print(y)"
   ]
  },
  {
   "cell_type": "code",
   "execution_count": 45,
   "metadata": {},
   "outputs": [
    {
     "name": "stdout",
     "output_type": "stream",
     "text": [
      "[<class 'float'>, <class 'str'>, <class 'bool'>, <class 'int'>]\n"
     ]
    }
   ],
   "source": [
    "#Update each element of a list by its type\n",
    "x=[3.14,\"Hello\",True,5]\n",
    "l=len(x)\n",
    "for i in range(0,l,1):\n",
    "     x[i]=type(x[i])\n",
    "print(x)"
   ]
  },
  {
   "cell_type": "code",
   "execution_count": null,
   "metadata": {},
   "outputs": [],
   "source": []
  }
 ],
 "metadata": {
  "kernelspec": {
   "display_name": "Python 3",
   "language": "python",
   "name": "python3"
  },
  "language_info": {
   "codemirror_mode": {
    "name": "ipython",
    "version": 3
   },
   "file_extension": ".py",
   "mimetype": "text/x-python",
   "name": "python",
   "nbconvert_exporter": "python",
   "pygments_lexer": "ipython3",
   "version": "3.7.3"
  }
 },
 "nbformat": 4,
 "nbformat_minor": 2
}
