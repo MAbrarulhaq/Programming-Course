{
 "cells": [
  {
   "cell_type": "markdown",
   "metadata": {},
   "source": [
    "Write a Python script to generate and print a dictionary that contains a number (between 1 and n) in the form (x, x2\n",
    ").\n",
    "\n",
    "Sample\n",
    "\n",
    "Dictionary ( n = 5) :\n",
    "\n",
    "Expected Output : {1: 1, 2: 4, 3: 9, 4: 16, 5: 25}"
   ]
  },
  {
   "cell_type": "code",
   "execution_count": 4,
   "metadata": {},
   "outputs": [
    {
     "name": "stdout",
     "output_type": "stream",
     "text": [
      "{1: 1, 2: 4, 3: 9, 4: 16, 5: 25}\n"
     ]
    }
   ],
   "source": [
    "d={}\n",
    "n=5\n",
    "for i in range(1,n+1):\n",
    "    d[i]=i**2\n",
    "    #d={i:i**2}\n",
    "print(d)\n",
    "\n",
    "\n"
   ]
  },
  {
   "cell_type": "markdown",
   "metadata": {},
   "source": [
    "Write a Python script to concatenate following dictionaries to create a new one.  \n",
    "\n",
    "Sample\n",
    "\n",
    "Dictionary :\n",
    "\n",
    "dic1={1:10, 2:20}\n",
    "\n",
    "dic2={3:30, 4:40}\n",
    "\n",
    "dic3={5:50,6:60}\n",
    "\n",
    "Expected Result : {1: 10, 2: 20, 3: 30, 4: 40, 5: 50, 6: 60}"
   ]
  },
  {
   "cell_type": "code",
   "execution_count": null,
   "metadata": {},
   "outputs": [],
   "source": [
    "d={}\n",
    "dic1={1:10, 2:20}\n",
    "\n",
    "dic2={3:30, 4:40}\n",
    "\n",
    "dic3={5:50,6:60}\n",
    "\n",
    "for i in dic1:\n",
    "    d[i]=dic1[i]\n",
    "for i in dic2:\n",
    "    d[i]=dic2[i]\n",
    "for i in dic3:\n",
    "    d[i]=dic3[i]\n",
    "    \n",
    "print(d)"
   ]
  },
  {
   "cell_type": "markdown",
   "metadata": {},
   "source": [
    "Write a Python program to combine two dictionary adding values for common keys.  \n",
    "\n",
    "d1 = {'a': 100, 'b': 200, 'c':300}\n",
    "\n",
    "d2 = {'a': 300, 'b': 200, 'd':400}\n",
    "\n",
    "Sample output: Counter({'a': 400, 'b': 400, 'd': 400, 'c': 300})"
   ]
  },
  {
   "cell_type": "code",
   "execution_count": null,
   "metadata": {},
   "outputs": [],
   "source": [
    "d1 = {'a': 100, 'b': 200, 'c':300}\n",
    "d2 = {'a': 300, 'b': 200, 'd':400}\n",
    "\n",
    "d={}\n",
    "\n",
    "for i in d1:\n",
    "    d[i]=d1[i]\n",
    "for i in d2:\n",
    "    if i in d:\n",
    "        d[i]=d2[i]+d[i]\n",
    "    else:\n",
    "        d[i]=d2[i]\n",
    "print(d)"
   ]
  },
  {
   "cell_type": "markdown",
   "metadata": {},
   "source": [
    "Write a Python to convert list of tuples into a list of lists.\n",
    "\n",
    "Original lists:\n",
    "\n",
    "[(1, 3), (5, 7), (9, 11)]\n",
    "\n",
    "\n",
    "\n",
    "[[1, 3], [5, 7], [9, 11]]"
   ]
  },
  {
   "cell_type": "code",
   "execution_count": 6,
   "metadata": {},
   "outputs": [
    {
     "name": "stdout",
     "output_type": "stream",
     "text": [
      "[[1, 3, 5, 7, 9, 11], [1, 3, 5, 7, 9, 11], [1, 3, 5, 7, 9, 11]]\n"
     ]
    }
   ],
   "source": [
    "l1=[(1, 3), (5, 7), (9, 11)]\n",
    "bl=[]\n",
    "l=[]\n",
    "for i in l1:\n",
    "    for i1 in i:\n",
    "        l.append(i1)\n",
    "    bl.append(l)\n",
    "print(bl)\n",
    "    "
   ]
  },
  {
   "cell_type": "markdown",
   "metadata": {},
   "source": [
    "Submit:\n",
    "    Write a Python program to count number of unique sublists within a given list and create a dictionary where\n",
    "key is a tuple and count is a value.\n",
    "\n",
    "Original list:\n",
    "[[1, 3], [5, 7], [1, 3], [13, 15, 17], [5, 7], [9, 11]]\n",
    "\n",
    "Number of unique lists of the said list:\n",
    "{(1, 3): 2, (5, 7): 2, (13, 15, 17): 1, (9, 11): 1}\n",
    "\n",
    "Original list:\n",
    "[['green', 'orange'], ['black'], ['green', 'orange'], ['white']]\n",
    "\n",
    "Number of unique lists of the said list:\n",
    "{('green', 'orange'): 2, ('black',): 1, ('white',): 1}"
   ]
  },
  {
   "cell_type": "code",
   "execution_count": null,
   "metadata": {},
   "outputs": [],
   "source": []
  },
  {
   "cell_type": "code",
   "execution_count": 7,
   "metadata": {},
   "outputs": [
    {
     "name": "stdout",
     "output_type": "stream",
     "text": [
      "2\n",
      "1\n",
      "2\n",
      "1\n",
      "{('green', 'orange'): 2, ('black',): 1, ('white',): 1}\n"
     ]
    }
   ],
   "source": [
    "l=[['green', 'orange'], ['black'], ['green', 'orange'], ['white']]\n",
    "d={}\n",
    "for i in l:\n",
    "    c=l.count(i)\n",
    "    print(c)\n",
    "    t=()\n",
    "    for j in i:\n",
    "        t= t+(j,)\n",
    "    d[t]=c\n",
    "print(d)\n",
    "        \n",
    "        \n"
   ]
  },
  {
   "cell_type": "code",
   "execution_count": null,
   "metadata": {},
   "outputs": [],
   "source": [
    "a_tuple = (\"a\", \"b\")\n",
    "\n",
    "added_value = \"c\"\n",
    "added_value_tuple = (added_value,)\n",
    "new_tuple = a_tuple + added_value_tuple\n",
    "print(new_tuple)"
   ]
  },
  {
   "cell_type": "code",
   "execution_count": null,
   "metadata": {},
   "outputs": [],
   "source": []
  }
 ],
 "metadata": {
  "kernelspec": {
   "display_name": "Python 3",
   "language": "python",
   "name": "python3"
  },
  "language_info": {
   "codemirror_mode": {
    "name": "ipython",
    "version": 3
   },
   "file_extension": ".py",
   "mimetype": "text/x-python",
   "name": "python",
   "nbconvert_exporter": "python",
   "pygments_lexer": "ipython3",
   "version": "3.7.3"
  }
 },
 "nbformat": 4,
 "nbformat_minor": 2
}
