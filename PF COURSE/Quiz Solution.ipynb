{
 "cells": [
  {
   "cell_type": "code",
   "execution_count": 19,
   "metadata": {},
   "outputs": [
    {
     "name": "stdout",
     "output_type": "stream",
     "text": [
      "Correct Calculations\n",
      "Red:  13 Yellow:  2  Blue:  2\n"
     ]
    }
   ],
   "source": [
    "n=6761\n",
    "red=n//50\n",
    "rem  =n%50\n",
    "yellow=rem//10\n",
    "rem2=rem%10\n",
    "blue=rem2//3\n",
    "if (red*50+yellow*10+blue*3+rem2%3==n):\n",
    "    print(\"Correct Calculations\")\n",
    "else:\n",
    "    print(\"incorrect Calculations\")\n",
    "if rem2%3==0:\n",
    "    print(\"Red: \",red,\"Yellow: \",yellow,\" Blue: \",blue)\n",
    "else:\n",
    "    print(\"Invalid Score\")\n",
    "    \n"
   ]
  },
  {
   "cell_type": "code",
   "execution_count": null,
   "metadata": {},
   "outputs": [],
   "source": []
  }
 ],
 "metadata": {
  "kernelspec": {
   "display_name": "Python 3",
   "language": "python",
   "name": "python3"
  },
  "language_info": {
   "codemirror_mode": {
    "name": "ipython",
    "version": 3
   },
   "file_extension": ".py",
   "mimetype": "text/x-python",
   "name": "python",
   "nbconvert_exporter": "python",
   "pygments_lexer": "ipython3",
   "version": "3.7.3"
  }
 },
 "nbformat": 4,
 "nbformat_minor": 2
}
